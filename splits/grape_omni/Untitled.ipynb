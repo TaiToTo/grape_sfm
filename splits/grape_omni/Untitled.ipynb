{
 "cells": [
  {
   "cell_type": "code",
   "execution_count": 1,
   "id": "latest-description",
   "metadata": {},
   "outputs": [
    {
     "name": "stdout",
     "output_type": "stream",
     "text": [
      "Untitled.ipynb  train_files.txt val_files.txt\r\n"
     ]
    }
   ],
   "source": [
    "!ls"
   ]
  },
  {
   "cell_type": "code",
   "execution_count": 13,
   "id": "saving-interval",
   "metadata": {},
   "outputs": [],
   "source": [
    "path_train = './train_files.txt'\n",
    "path_val = './val_files.txt'\n",
    "\n",
    "with open(path_train) as f:\n",
    "    l_train = f.readlines()\n",
    "    \n",
    "with open(path_val) as f:\n",
    "    l_val = f.readlines()"
   ]
  },
  {
   "cell_type": "code",
   "execution_count": 14,
   "id": "orange-shipping",
   "metadata": {},
   "outputs": [],
   "source": [
    "train_video_path_list = [l_train[i].split(' ')[0] for i in range(len(l_train))]\n",
    "val_video_path_list = [l_val[i].split(' ')[0] for i in range(len(l_val))]"
   ]
  },
  {
   "cell_type": "code",
   "execution_count": 16,
   "id": "compressed-regression",
   "metadata": {},
   "outputs": [],
   "source": [
    "for train_path in train_video_path_list:\n",
    "    for val_path in val_video_path_list:\n",
    "        if(train_path==val_path):\n",
    "            print(True)"
   ]
  },
  {
   "cell_type": "code",
   "execution_count": null,
   "id": "encouraging-exclusive",
   "metadata": {},
   "outputs": [],
   "source": []
  }
 ],
 "metadata": {
  "kernelspec": {
   "display_name": "Python 3 (ipykernel)",
   "language": "python",
   "name": "python3"
  },
  "language_info": {
   "codemirror_mode": {
    "name": "ipython",
    "version": 3
   },
   "file_extension": ".py",
   "mimetype": "text/x-python",
   "name": "python",
   "nbconvert_exporter": "python",
   "pygments_lexer": "ipython3",
   "version": "3.9.7"
  }
 },
 "nbformat": 4,
 "nbformat_minor": 5
}
